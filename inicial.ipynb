{
 "cells": [
  {
   "cell_type": "markdown",
   "metadata": {},
   "source": [
    "# Python Insights - Analisando Dados com Python\n",
    "\n",
    "### Case - Cancelamento de Clientes\n",
    "\n",
    "Você foi contratado por uma empresa com mais de 800 mil clientes para um projeto de Dados. Recentemente a empresa percebeu que da sua base total de clientes, a maioria são clientes inativos, ou seja, que já cancelaram o serviço.\n",
    "\n",
    "Precisando melhorar seus resultados ela quer conseguir entender os principais motivos desses cancelamentos e quais as ações mais eficientes para reduzir esse número.\n",
    "\n",
    "Base de dados e arquivos: https://drive.google.com/drive/folders/1uDesZePdkhiraJmiyeZ-w5tfc8XsNYFZ?usp=drive_link"
   ]
  },
  {
   "cell_type": "code",
   "execution_count": null,
   "metadata": {},
   "outputs": [],
   "source": [
    "#instalações iniciais\n",
    "#pip install pandas plotly openpyxl numpy nbformat ipykernel\n",
    "\n",
    "# Passo a Passo do Projeto\n",
    "# Passo 1: Importar a base de dados\n",
    "import pandas as pd\n",
    "\n",
    "tabela = pd.read_csv(\"cancelamentos.csv\")\n",
    "\n",
    "# Passo 2: Vizualizar a base de dados\n",
    "    # Entender quais informções voce tem disponivel\n",
    "    # Identificar os erros da base de dados\n",
    "tabela = tabela.drop(columns=\"CustomerID\")\n",
    "display(tabela)\n"
   ]
  },
  {
   "cell_type": "code",
   "execution_count": null,
   "metadata": {},
   "outputs": [],
   "source": [
    "# Passo 3: Tratamento de dados = Corrigir os erros da base de dados\n",
    "# valores vazios na base de dados\n",
    "# formato das informações esta correto\n",
    "tabela = tabela.dropna()\n",
    "display(tabela.info())\n",
    "\n",
    "# Passo 5: Analisar a causa do cancelamento(como as informações do cliente impactam no cancelamento)"
   ]
  },
  {
   "cell_type": "markdown",
   "metadata": {},
   "source": []
  },
  {
   "cell_type": "code",
   "execution_count": null,
   "metadata": {},
   "outputs": [],
   "source": [
    "# Passo 4: Analisar o cancelamento dos clientes\n",
    "display(tabela[\"cancelou\"].value_counts())\n",
    "display(tabela[\"cancelou\"].value_counts(normalize=True))"
   ]
  },
  {
   "cell_type": "code",
   "execution_count": null,
   "metadata": {},
   "outputs": [],
   "source": [
    "# Passo 5: Analisar a causa do cancelamento(como as informações do cliente impactam no cancelamento)\n",
    "\n",
    "# Importar a biblioteca de graficos\n",
    "import plotly.express as px\n",
    "\n",
    "\n",
    "\n",
    "for coluna in tabela.columns:\n",
    "    #criar o grafico\n",
    "    grafico = px.histogram(tabela, x=coluna, color=\"cancelou\")\n",
    "\n",
    "    #exibir o grafico\n",
    "    grafico.show()"
   ]
  },
  {
   "cell_type": "code",
   "execution_count": null,
   "metadata": {},
   "outputs": [],
   "source": [
    "# clientes do contrato mensal sempre cancelam\n",
    "    # ofercer desconto nos planos anuais e trimestrais\n",
    "\n",
    "    \n",
    "# clientes que ligam mais do que 4 vezes para o call center, cancelam\n",
    "    # criar um processo para resolver o problema do cliente em no máximo 3 ligações\n",
    "    \n",
    "# clientes que atrasaram mais de 20 dias, cancelaram\n",
    "    # política de resolver atrasos em até 10 dias (equipe financeira)\n",
    "    \n",
    "# se eu não tivesse contrato mensal, como seria o cancelamento  \n",
    "tabela = tabela[tabela[\"duracao_contrato\"] != \"Monthly\"]\n",
    "\n",
    "# se eu não tivesse clientes com mais de 4 ligações pro call center\n",
    "tabela = tabela[tabela[\"ligacoes_callcenter\"] <= 4]\n",
    "\n",
    "# se eu não tiver cliente com mais de 20  dias de atraso no pagamento\n",
    "tabela = tabela[tabela[\"dias_atraso\"] <= 20]     \n",
    "\n",
    "display(tabela[\"cancelou\"].value_counts(normalize=True))"
   ]
  }
 ],
 "metadata": {
  "kernelspec": {
   "display_name": "Python 3",
   "language": "python",
   "name": "python3"
  },
  "language_info": {
   "codemirror_mode": {
    "name": "ipython",
    "version": 3
   },
   "file_extension": ".py",
   "mimetype": "text/x-python",
   "name": "python",
   "nbconvert_exporter": "python",
   "pygments_lexer": "ipython3",
   "version": "3.12.0"
  },
  "orig_nbformat": 4
 },
 "nbformat": 4,
 "nbformat_minor": 2
}
